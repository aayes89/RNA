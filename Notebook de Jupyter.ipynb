{
  "nbformat": 4,
  "nbformat_minor": 0,
  "metadata": {
    "colab": {
      "name": "Example 1.ipynb",
      "provenance": [],
      "collapsed_sections": []
    },
    "kernelspec": {
      "name": "python3",
      "display_name": "Python 3"
    },
    "accelerator": "GPU"
  },
  "cells": [
    {
      "cell_type": "markdown",
      "metadata": {
        "id": "Qn7DMPMJ18S4",
        "colab_type": "text"
      },
      "source": [
        "# MNIST Keras example\n",
        "\n",
        "In this notebook we simply show how to train a neural network using Keras on MNIST dataset."
      ]
    },
    {
      "cell_type": "code",
      "metadata": {
        "id": "r_YQVLRq1a9S",
        "colab_type": "code",
        "colab": {}
      },
      "source": [
        "from __future__ import print_function\n",
        "import keras\n",
        "from keras.datasets import mnist\n",
        "from keras.models import Sequential\n",
        "from keras.layers import Dense, Dropout, Flatten\n",
        "from keras.layers import Conv2D, MaxPooling2D\n",
        "from keras import backend as K\n"
      ],
      "execution_count": null,
      "outputs": []
    },
    {
      "cell_type": "code",
      "metadata": {
        "id": "IbeuHo1zO2Fu",
        "colab_type": "code",
        "colab": {}
      },
      "source": [
        "(x_train, y_train), (x_test, y_test) = mnist.load_data()\n",
        "\n",
        "x_train = x_train.reshape(x_train.shape[0], 28, 28, 1)\n",
        "input_shape = (28, 28, 1)"
      ],
      "execution_count": null,
      "outputs": []
    },
    {
      "cell_type": "markdown",
      "metadata": {
        "id": "rkWc7O-a2gWG",
        "colab_type": "text"
      },
      "source": [
        "## Prepare dataset"
      ]
    },
    {
      "cell_type": "code",
      "metadata": {
        "id": "-yk0DAo11y5n",
        "colab_type": "code",
        "colab": {}
      },
      "source": [
        "# Set the time of each attribute as a float32 number\n",
        "x_train = x_train.astype('float32')\n",
        "\n",
        "# Scale the pixel value to the interval [0, 1]\n",
        "x_train /= 255\n",
        "\n",
        "# Convert class vectors to binary class matrices\n",
        "y_train = keras.utils.to_categorical(y_train, 10)"
      ],
      "execution_count": null,
      "outputs": []
    },
    {
      "cell_type": "markdown",
      "metadata": {
        "id": "Ha3Iywra2nx2",
        "colab_type": "text"
      },
      "source": [
        "## Create a neural network model and train it with SGD"
      ]
    },
    {
      "cell_type": "code",
      "metadata": {
        "id": "bpHSuuZL13-v",
        "colab_type": "code",
        "colab": {}
      },
      "source": [
        "model1 = Sequential()\n",
        "model1.add(Flatten())\n",
        "model1.add(Dense(10, activation='relu'))\n",
        "model1.add(Dense(50, activation='relu'))\n",
        "model1.add(Dense(10, activation='softmax'))\n",
        "\n",
        "model1.compile(loss=keras.losses.mean_squared_error, optimizer=keras.optimizers.SGD())"
      ],
      "execution_count": null,
      "outputs": []
    },
    {
      "cell_type": "code",
      "metadata": {
        "id": "9GJyE8Xn16dR",
        "colab_type": "code",
        "colab": {}
      },
      "source": [
        "model1.fit(x_train, y_train, batch_size=128, epochs=10, verbose=1)"
      ],
      "execution_count": null,
      "outputs": []
    },
    {
      "cell_type": "markdown",
      "metadata": {
        "id": "jSDeRwkO8FmQ",
        "colab_type": "text"
      },
      "source": [
        "## Create a neural network model and train it with AdaDelta"
      ]
    },
    {
      "cell_type": "code",
      "metadata": {
        "id": "Wlp8v_b58KMC",
        "colab_type": "code",
        "colab": {}
      },
      "source": [
        "model2 = Sequential()\n",
        "model2.add(Flatten())\n",
        "model2.add(Dense(10, activation='relu'))\n",
        "model2.add(Dense(50, activation='relu'))\n",
        "model2.add(Dense(10, activation='softmax'))\n",
        "\n",
        "model2.compile(loss=keras.losses.mean_squared_error, optimizer=keras.optimizers.Adadelta())"
      ],
      "execution_count": null,
      "outputs": []
    },
    {
      "cell_type": "code",
      "metadata": {
        "id": "TDGm4Oox8MUk",
        "colab_type": "code",
        "colab": {}
      },
      "source": [
        "model2.fit(x_train, y_train, batch_size=128, epochs=10, verbose=1)"
      ],
      "execution_count": null,
      "outputs": []
    },
    {
      "cell_type": "markdown",
      "metadata": {
        "id": "e072iMysHvMW",
        "colab_type": "text"
      },
      "source": [
        "## Create a CONVNET"
      ]
    },
    {
      "cell_type": "code",
      "metadata": {
        "id": "p-xqXbwLHuS2",
        "colab_type": "code",
        "colab": {}
      },
      "source": [
        "model3 = Sequential()\n",
        "model3.add(Conv2D(32, kernel_size=(3, 3), activation='relu', input_shape=input_shape))\n",
        "model3.add(Conv2D(64, (3, 3), activation='relu'))\n",
        "model3.add(MaxPooling2D(pool_size=(2, 2)))\n",
        "model3.add(Dropout(0.25))\n",
        "model3.add(Flatten())\n",
        "model3.add(Dense(128, activation='relu'))\n",
        "model3.add(Dropout(0.5))\n",
        "model3.add(Dense(10, activation='softmax'))\n",
        "\n",
        "model3.compile(loss=keras.losses.mean_squared_error, optimizer=keras.optimizers.Adadelta())"
      ],
      "execution_count": null,
      "outputs": []
    },
    {
      "cell_type": "code",
      "metadata": {
        "id": "DNK5fAE0IF4p",
        "colab_type": "code",
        "colab": {}
      },
      "source": [
        "model3.fit(x_train, y_train, batch_size=128, epochs=10, verbose=1)"
      ],
      "execution_count": null,
      "outputs": []
    },
    {
      "cell_type": "markdown",
      "metadata": {
        "id": "oSBvQ-JmaGR9",
        "colab_type": "text"
      },
      "source": [
        "## Are our models working good? Let's see"
      ]
    },
    {
      "cell_type": "code",
      "metadata": {
        "id": "hklEsf_9aSzV",
        "colab_type": "code",
        "colab": {}
      },
      "source": [
        "from skimage import color\n",
        "from skimage import io\n",
        "from skimage import transform\n",
        "import numpy as np\n",
        "\n",
        "io.imshow(x_train[1, :, :, 0])"
      ],
      "execution_count": null,
      "outputs": []
    },
    {
      "cell_type": "code",
      "metadata": {
        "id": "Vg7UAUXgabQ_",
        "colab_type": "code",
        "colab": {}
      },
      "source": [
        "model1.predict_classes(x_train)[1]"
      ],
      "execution_count": null,
      "outputs": []
    },
    {
      "cell_type": "code",
      "metadata": {
        "id": "7zHMOKkjasFm",
        "colab_type": "code",
        "colab": {}
      },
      "source": [
        "model2.predict_classes(x_train)[1]"
      ],
      "execution_count": null,
      "outputs": []
    },
    {
      "cell_type": "code",
      "metadata": {
        "id": "XTk8HYrzasV3",
        "colab_type": "code",
        "colab": {}
      },
      "source": [
        "model3.predict_classes(x_train)[1]"
      ],
      "execution_count": null,
      "outputs": []
    },
    {
      "cell_type": "markdown",
      "metadata": {
        "id": "e6hyQPp8QDjW",
        "colab_type": "text"
      },
      "source": [
        "## Let's try how good is our model using our own numbers           :o\n",
        "\n",
        "This is just a simple function used to allow you to make a drawing in Jupyter..."
      ]
    },
    {
      "cell_type": "code",
      "metadata": {
        "id": "UZIT6MgZQuPy",
        "colab_type": "code",
        "colab": {}
      },
      "source": [
        "from IPython.display import HTML, Image\n",
        "from google.colab.output import eval_js\n",
        "from base64 import b64decode\n",
        "\n",
        "canvas_html = \"\"\"\n",
        "<canvas style=\"border: 2px solid black;\" width=%d height=%d></canvas>\n",
        "<button>Finish</button>\n",
        "<script>\n",
        "var canvas = document.querySelector('canvas')\n",
        "var ctx = canvas.getContext('2d')\n",
        "ctx.lineWidth = %d\n",
        "var button = document.querySelector('button')\n",
        "var mouse = {x: 0, y: 0}\n",
        "canvas.addEventListener('mousemove', function(e) {\n",
        "  mouse.x = e.pageX - this.offsetLeft\n",
        "  mouse.y = e.pageY - this.offsetTop\n",
        "})\n",
        "canvas.onmousedown = ()=>{\n",
        "  ctx.beginPath()\n",
        "  ctx.moveTo(mouse.x, mouse.y)\n",
        "  canvas.addEventListener('mousemove', onPaint)\n",
        "}\n",
        "canvas.onmouseup = ()=>{\n",
        "  canvas.removeEventListener('mousemove', onPaint)\n",
        "}\n",
        "var onPaint = ()=>{\n",
        "  ctx.lineTo(mouse.x, mouse.y)\n",
        "  ctx.stroke()\n",
        "}\n",
        "var data = new Promise(resolve=>{\n",
        "  button.onclick = ()=>{\n",
        "    resolve(canvas.toDataURL('image/png'))\n",
        "  }\n",
        "})\n",
        "</script>\n",
        "\"\"\"\n",
        "\n",
        "def draw(filename='drawing.png', w=280, h=280, line_width=1):\n",
        "  display(HTML(canvas_html % (w, h, line_width)))\n",
        "  data = eval_js(\"data\")\n",
        "  binary = b64decode(data.split(',')[1])\n",
        "  with open(filename, 'wb') as f:\n",
        "    f.write(binary)"
      ],
      "execution_count": null,
      "outputs": []
    },
    {
      "cell_type": "markdown",
      "metadata": {
        "id": "8wniFjCvRHN0",
        "colab_type": "text"
      },
      "source": [
        "Here you can draw a number:"
      ]
    },
    {
      "cell_type": "code",
      "metadata": {
        "id": "xJajjwtyQ13H",
        "colab_type": "code",
        "colab": {}
      },
      "source": [
        "draw()"
      ],
      "execution_count": null,
      "outputs": []
    },
    {
      "cell_type": "code",
      "metadata": {
        "id": "CbHyHm_DRG2m",
        "colab_type": "code",
        "colab": {}
      },
      "source": [
        "img = io.imread('drawing.png')\n",
        "img_scaled = transform.resize(img[:,:,3], (28, 28), anti_aliasing=True)\n",
        "img_scaled = img_scaled.reshape((28, 28))\n",
        "\n",
        "for cell in np.nditer(img_scaled, op_flags=['readwrite']):\n",
        "    if cell  != 0 :\n",
        "        cell[...] = 0.99\n",
        "\n",
        "io.imshow(img_scaled)"
      ],
      "execution_count": null,
      "outputs": []
    },
    {
      "cell_type": "code",
      "metadata": {
        "id": "SsdbCk5ia0pM",
        "colab_type": "code",
        "colab": {}
      },
      "source": [
        "print(\"The predicted number by SGD trained model is: \" + str(model1.predict_classes(img_scaled.reshape((1, 28, 28, 1)))[0]))"
      ],
      "execution_count": null,
      "outputs": []
    },
    {
      "cell_type": "code",
      "metadata": {
        "id": "7NZr6BVb6tPG",
        "colab_type": "code",
        "colab": {}
      },
      "source": [
        "print(\"The predicted number by Adadelta trained model is: \" + str(model2.predict_classes(img_scaled.reshape((1, 28, 28, 1)))[0]))"
      ],
      "execution_count": null,
      "outputs": []
    },
    {
      "cell_type": "code",
      "metadata": {
        "id": "heoE78VNIfVK",
        "colab_type": "code",
        "colab": {}
      },
      "source": [
        "print(\"The predicted number by Adadelta trained CNN model is: \" + str(model3.predict_classes(img_scaled.reshape((1, 28, 28, 1)))[0]))"
      ],
      "execution_count": null,
      "outputs": []
    },
    {
      "cell_type": "markdown",
      "metadata": {
        "id": "IlvjOqWgT_MP",
        "colab_type": "text"
      },
      "source": [
        "## Preprocessing our numbers consistently\n",
        "\n",
        "All images are size normalized to fit in a 20x20 pixel box and are centered in a 28x28 image using the center of mass"
      ]
    },
    {
      "cell_type": "code",
      "metadata": {
        "id": "MMntTR5OUEDK",
        "colab_type": "code",
        "colab": {}
      },
      "source": [
        "io.imshow(x_train[1,:,:,0])"
      ],
      "execution_count": null,
      "outputs": []
    },
    {
      "cell_type": "markdown",
      "metadata": {
        "id": "U7X7nLtIVLzf",
        "colab_type": "text"
      },
      "source": [
        "1. Delete empty rows and columns to each side of the number"
      ]
    },
    {
      "cell_type": "code",
      "metadata": {
        "id": "kClhRxYsUKLT",
        "colab_type": "code",
        "colab": {}
      },
      "source": [
        "while np.sum(img_scaled[0]) == 0:\n",
        "    img_scaled = img_scaled[1:]\n",
        "\n",
        "while np.sum(img_scaled[:,0]) == 0:\n",
        "    img_scaled = np.delete(img_scaled,0,1)\n",
        "\n",
        "while np.sum(img_scaled[-1]) == 0:\n",
        "    img_scaled = img_scaled[:-1]\n",
        "\n",
        "while np.sum(img_scaled[:,-1]) == 0:\n",
        "    img_scaled = np.delete(img_scaled,-1,1)\n",
        "\n",
        "rows,cols = img_scaled.shape"
      ],
      "execution_count": null,
      "outputs": []
    },
    {
      "cell_type": "markdown",
      "metadata": {
        "id": "KDCGqoqEWGWd",
        "colab_type": "text"
      },
      "source": [
        "2. Scale what remains to fit a 20 x 20 box"
      ]
    },
    {
      "cell_type": "code",
      "metadata": {
        "id": "XlxDOJ35V4mQ",
        "colab_type": "code",
        "colab": {}
      },
      "source": [
        "import cv2\n",
        "\n",
        "if rows > cols:\n",
        "    factor = 20.0/rows\n",
        "    rows = 20\n",
        "    cols = int(round(cols*factor))\n",
        "    img_scaled = cv2.resize(img_scaled, (cols,rows))\n",
        "else:\n",
        "    factor = 20.0/cols\n",
        "    cols = 20\n",
        "    rows = int(round(rows*factor))\n",
        "    img_scaled = cv2.resize(img_scaled, (cols, rows))"
      ],
      "execution_count": null,
      "outputs": []
    },
    {
      "cell_type": "markdown",
      "metadata": {
        "id": "4tp6wX6PWeDO",
        "colab_type": "text"
      },
      "source": [
        "3. Include the four pixels to each side of the image to end up with a 28 x 28 image"
      ]
    },
    {
      "cell_type": "code",
      "metadata": {
        "id": "TJnbGEWKWU4m",
        "colab_type": "code",
        "colab": {}
      },
      "source": [
        "import math\n",
        "\n",
        "colsPadding = (int(math.ceil((28-cols)/2.0)),int(math.floor((28-cols)/2.0)))\n",
        "rowsPadding = (int(math.ceil((28-rows)/2.0)),int(math.floor((28-rows)/2.0)))\n",
        "img_scaled = np.lib.pad(img_scaled,(rowsPadding,colsPadding),'constant')"
      ],
      "execution_count": null,
      "outputs": []
    },
    {
      "cell_type": "markdown",
      "metadata": {
        "id": "RL-PZLEBXN7N",
        "colab_type": "text"
      },
      "source": [
        "4. Shift the inner box so that it is centered using the center of mass."
      ]
    },
    {
      "cell_type": "code",
      "metadata": {
        "id": "yslCFuPwWwB2",
        "colab_type": "code",
        "colab": {}
      },
      "source": [
        "from scipy import ndimage\n",
        "\n",
        "def getBestShift(img):\n",
        "    cy,cx = ndimage.measurements.center_of_mass(img)\n",
        "\n",
        "    rows,cols = img.shape\n",
        "    shiftx = np.round(cols/2.0-cx).astype(int)\n",
        "    shifty = np.round(rows/2.0-cy).astype(int)\n",
        "\n",
        "    return shiftx,shifty"
      ],
      "execution_count": null,
      "outputs": []
    },
    {
      "cell_type": "code",
      "metadata": {
        "id": "l5Kk5FVvXaB8",
        "colab_type": "code",
        "colab": {}
      },
      "source": [
        "def shift(img,sx,sy):\n",
        "    rows,cols = img.shape\n",
        "    M = np.float32([[1,0,sx],[0,1,sy]])\n",
        "    shifted = cv2.warpAffine(img,M,(cols,rows))\n",
        "    return shifted"
      ],
      "execution_count": null,
      "outputs": []
    },
    {
      "cell_type": "code",
      "metadata": {
        "id": "54VBqGWxXsAA",
        "colab_type": "code",
        "colab": {}
      },
      "source": [
        "shiftx,shifty = getBestShift(img_scaled)\n",
        "shifted = shift(img_scaled, shiftx, shifty)\n",
        "img_scaled = shifted"
      ],
      "execution_count": null,
      "outputs": []
    },
    {
      "cell_type": "markdown",
      "metadata": {
        "id": "gy-7tDipYXSe",
        "colab_type": "text"
      },
      "source": [
        "### How is our image looking now?"
      ]
    },
    {
      "cell_type": "code",
      "metadata": {
        "id": "B5xzgIM3YiyK",
        "colab_type": "code",
        "colab": {}
      },
      "source": [
        "io.imshow(img_scaled)"
      ],
      "execution_count": null,
      "outputs": []
    },
    {
      "cell_type": "markdown",
      "metadata": {
        "id": "5NtE2clXYrJw",
        "colab_type": "text"
      },
      "source": [
        "### Let's take a look to our neural networks \"empirical\" performance now"
      ]
    },
    {
      "cell_type": "code",
      "metadata": {
        "id": "ZWdII-G7YqFA",
        "colab_type": "code",
        "colab": {}
      },
      "source": [
        "print(\"The predicted number by SGD trained model is: \" + str(model1.predict_classes(img_scaled.reshape((1, 28, 28, 1)))[0]))"
      ],
      "execution_count": null,
      "outputs": []
    },
    {
      "cell_type": "code",
      "metadata": {
        "id": "VJAKemC-YqSV",
        "colab_type": "code",
        "colab": {}
      },
      "source": [
        "print(\"The predicted number by Adadelta trained model is: \" + str(model2.predict_classes(img_scaled.reshape((1, 28, 28, 1)))[0]))"
      ],
      "execution_count": null,
      "outputs": []
    },
    {
      "cell_type": "code",
      "metadata": {
        "id": "08fA7n5JYqZl",
        "colab_type": "code",
        "colab": {}
      },
      "source": [
        "print(\"The predicted number by Adadelta trained CNN model is: \" + str(model3.predict_classes(img_scaled.reshape((1, 28, 28, 1)))[0]))"
      ],
      "execution_count": null,
      "outputs": []
    }
  ]
}