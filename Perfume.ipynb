{
  "nbformat": 4,
  "nbformat_minor": 0,
  "metadata": {
    "kernelspec": {
      "display_name": "Python 3",
      "language": "python",
      "name": "python3"
    },
    "language_info": {
      "codemirror_mode": {
        "name": "ipython",
        "version": 3
      },
      "file_extension": ".py",
      "mimetype": "text/x-python",
      "name": "python",
      "nbconvert_exporter": "python",
      "pygments_lexer": "ipython3",
      "version": "3.6.9"
    },
    "colab": {
      "name": "Perfume.ipynb",
      "provenance": [],
      "collapsed_sections": [],
      "toc_visible": true
    }
  },
  "cells": [
    {
      "cell_type": "markdown",
      "metadata": {
        "id": "aOqjZd_mGz8b",
        "colab_type": "text"
      },
      "source": [
        "# Propuesta de solución a la tarea del Tema 3 \"Perfume Data DataSet\" mediante redes neuronales artificiales"
      ]
    },
    {
      "cell_type": "markdown",
      "metadata": {
        "id": "KLnHeWUJGz8d",
        "colab_type": "text"
      },
      "source": [
        "## Introducción"
      ]
    },
    {
      "cell_type": "markdown",
      "metadata": {
        "id": "Ji09KUF0Gz8e",
        "colab_type": "text"
      },
      "source": [
        "En este Notebook se muestra cómo utilizar la biblioteca `scikit-learn` para clasificar ejemplos del conjunto de olores registrados por el sensor OMX-GR. El problema posee un conjunto de 28 lecturas cada segundo para los 20 perfumes existentes en el DataSet.Este Notebook utiliza una variación de la base de datos ofrecida en la que se añadió un título a la columna de perfumes y las mediciones hechas por el sensor."
      ]
    },
    {
      "cell_type": "markdown",
      "metadata": {
        "id": "RdDf1LROGz8f",
        "colab_type": "text"
      },
      "source": [
        "## Cargar la base de datos desde un fichero CSV"
      ]
    },
    {
      "cell_type": "code",
      "metadata": {
        "id": "TAU_inesGz8g",
        "colab_type": "code",
        "colab": {}
      },
      "source": [
        "import numpy as np\n",
        "import pandas as pd\n",
        "\n",
        "#from google.colab import files\n",
        "#file = files.upload()\n",
        "# De poseer los datos de entrada en formato csv, se debe utilizar en este caso\n",
        "# la función pd.read_csv()\n",
        "df_olor = pd.read_excel('./sample_data/perfume_data.xlsx', index_col=0)\n"
      ],
      "execution_count": null,
      "outputs": []
    },
    {
      "cell_type": "markdown",
      "metadata": {
        "id": "PSh3JW8uGz8k",
        "colab_type": "text"
      },
      "source": [
        "## Atributos de entrada y de salida"
      ]
    },
    {
      "cell_type": "code",
      "metadata": {
        "id": "cRPGKDVIGz8l",
        "colab_type": "code",
        "colab": {}
      },
      "source": [
        "df_olor.head()\n",
        "# La función df_olor.describe() muestra información estadística del conjunto de datos.\n",
        "# En nuestro caso, los mínimos y máximos del conjunto, cantidad de elementos y otros datos importantes\n",
        "#df_olor.describe()"
      ],
      "execution_count": null,
      "outputs": []
    },
    {
      "cell_type": "markdown",
      "metadata": {
        "id": "lGhKsQipGz8p",
        "colab_type": "text"
      },
      "source": [
        "- Se tiene 28 atributos de entrada (i1,i2,...,i28)\n",
        "- El atributo de salida (perfume), es nominal, por lo que se trata de un problema de clasificación"
      ]
    },
    {
      "cell_type": "markdown",
      "metadata": {
        "id": "JIttNKKiGz8q",
        "colab_type": "text"
      },
      "source": [
        "## Creación de dos `arrays` que contienen  los atributos de entrada y salida respectivamente"
      ]
    },
    {
      "cell_type": "code",
      "metadata": {
        "id": "mxMzQvG6Gz8q",
        "colab_type": "code",
        "colab": {}
      },
      "source": [
        "mapping = {\"'ajayeb'\":0, \"'ajmal'\":1, \"'amreaj'\":2, \"'aood'\": 3, \"'asgar_ali'\": 4, \"'bukhoor'\": 5, \"'burberrry'\": 6, \"'dehenalaod'\": 7, \"'junaid'\": 8, \"'kausar'\": 9, \"'rose'\": 10, \"'solidmusk'\": 11, \"'TeaTreeOil'\":12 , \"'raspberry'\": 13, \"'RoseMusk'\": 14, \"'strawberry'\": 15, \"'constrected2'\": 16, \"'carolina_herrera'\": 17, \"'oudh_ma'alattar'\": 18, \"'constrected'\":19}\n",
        "\n",
        "X = df_olor[['i1','i2','i3','i4','i5','i6','i7','i8','i9','i10','i11','i12','i13','i14','i15','i16','i17','i18','i19','i20','i21','i22','i23','i24','i25','i26','i27','i28']].values\n",
        "y = df_olor.replace({'class' : mapping})\n",
        "y = to_categorical(y)"
      ],
      "execution_count": null,
      "outputs": []
    },
    {
      "cell_type": "markdown",
      "metadata": {
        "id": "nqTfZPfWGz8t",
        "colab_type": "text"
      },
      "source": [
        "## Definición de la red neuronal"
      ]
    },
    {
      "cell_type": "code",
      "metadata": {
        "id": "vQEJZe_WGz8u",
        "colab_type": "code",
        "colab": {}
      },
      "source": [
        "\n",
        "from sklearn.neural_network import MLPClassifier\n",
        "\n",
        "mlp = MLPClassifier(hidden_layer_sizes=(10, 5), solver='sgd', max_iter=1000, activation='logistic', n_iter_no_change=500)"
      ],
      "execution_count": null,
      "outputs": []
    },
    {
      "cell_type": "markdown",
      "metadata": {
        "id": "XKQjWn1GGz8x",
        "colab_type": "text"
      },
      "source": [
        "## Entrenamiento"
      ]
    },
    {
      "cell_type": "code",
      "metadata": {
        "id": "vHe-LgIyGz8y",
        "colab_type": "code",
        "colab": {}
      },
      "source": [
        "mlp = mlp.fit(X, y)\n"
      ],
      "execution_count": null,
      "outputs": []
    },
    {
      "cell_type": "markdown",
      "metadata": {
        "id": "5Zb7b0wrGz81",
        "colab_type": "text"
      },
      "source": [
        "## Cálculo del error de entrenamiento"
      ]
    },
    {
      "cell_type": "code",
      "metadata": {
        "id": "0x7qe_TiGz82",
        "colab_type": "code",
        "colab": {
          "base_uri": "https://localhost:8080/",
          "height": 34
        },
        "outputId": "345e030a-feb2-4568-cafd-6836a7523f8e"
      },
      "source": [
        "from sklearn.metrics import mean_squared_error\n",
        "\n",
        "y_pred = mlp.predict(X)\n",
        "error = 0\n",
        "\n",
        "for truth, pred in zip(y, y_pred):\n",
        "    if truth != pred:\n",
        "        error += 1\n",
        "        \n",
        "error /= len(y_pred)\n",
        "\n",
        "print(\"El error de entrenamiento es: \" + str(error))"
      ],
      "execution_count": null,
      "outputs": [
        {
          "output_type": "stream",
          "text": [
            "El error de entrenamiento es: 0.66\n"
          ],
          "name": "stdout"
        }
      ]
    }
  ]
}